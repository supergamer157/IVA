{
  "cells": [
    {
      "cell_type": "markdown",
      "id": "b3c6521d",
      "metadata": {
        "id": "b3c6521d"
      },
      "source": [
        "Import Libraries"
      ]
    },
    {
      "cell_type": "code",
      "execution_count": null,
      "id": "da787596",
      "metadata": {
        "id": "da787596"
      },
      "outputs": [],
      "source": [
        "import numpy as np\n",
        "from tensorflow.keras.models import load_model\n",
        "from tensorflow import keras\n",
        "from tensorflow.keras.datasets import mnist\n",
        "from tensorflow.keras.models import Sequential\n",
        "from tensorflow.keras.layers import Dense, Dropout, Flatten\n",
        "from tensorflow.keras.layers import Conv2D, MaxPooling2D\n",
        "from tensorflow.keras import backend as K\n"
      ]
    },
    {
      "cell_type": "markdown",
      "id": "71a9523b",
      "metadata": {
        "id": "71a9523b"
      },
      "source": [
        "Load the Dataset"
      ]
    },
    {
      "cell_type": "code",
      "execution_count": null,
      "id": "e2815b67",
      "metadata": {
        "id": "e2815b67",
        "outputId": "1580635d-30a0-4467-d012-e90b024d7343"
      },
      "outputs": [
        {
          "name": "stdout",
          "output_type": "stream",
          "text": [
            "Downloading data from https://storage.googleapis.com/tensorflow/tf-keras-datasets/mnist.npz\n",
            "11490434/11490434 [==============================] - 5s 0us/step\n",
            "(60000, 28, 28) (60000,)\n"
          ]
        }
      ],
      "source": [
        "(x_train, y_train), (x_test, y_test) = mnist.load_data()\n",
        "print(x_train.shape, y_train.shape)\n"
      ]
    },
    {
      "cell_type": "markdown",
      "id": "75fa4d95",
      "metadata": {
        "id": "75fa4d95"
      },
      "source": [
        "Reshape the Data"
      ]
    },
    {
      "cell_type": "code",
      "execution_count": null,
      "id": "4a743afb",
      "metadata": {
        "id": "4a743afb"
      },
      "outputs": [],
      "source": [
        "x_train = x_train.reshape(x_train.shape[0], 28, 28, 1)\n",
        "x_test = x_test.reshape(x_test.shape[0], 28, 28, 1)\n",
        "input_shape = (28, 28, 1)\n"
      ]
    },
    {
      "cell_type": "markdown",
      "id": "6b1ce8be",
      "metadata": {
        "id": "6b1ce8be"
      },
      "source": [
        "Convert Labels to Categorical"
      ]
    },
    {
      "cell_type": "code",
      "execution_count": null,
      "id": "d94d6c99",
      "metadata": {
        "id": "d94d6c99"
      },
      "outputs": [],
      "source": [
        "y_train = keras.utils.to_categorical(y_train, 10)\n",
        "y_test = keras.utils.to_categorical(y_test, 10)\n"
      ]
    },
    {
      "cell_type": "markdown",
      "id": "256fe23a",
      "metadata": {
        "id": "256fe23a"
      },
      "source": [
        "Normalize the Data"
      ]
    },
    {
      "cell_type": "code",
      "execution_count": null,
      "id": "d06355ac",
      "metadata": {
        "id": "d06355ac"
      },
      "outputs": [],
      "source": [
        "x_train = x_train.astype('float32')\n",
        "x_test = x_test.astype('float32')\n",
        "x_train /= 255\n",
        "x_test /= 255\n"
      ]
    },
    {
      "cell_type": "markdown",
      "id": "1bbf9d48",
      "metadata": {
        "id": "1bbf9d48"
      },
      "source": [
        "Print Shapes"
      ]
    },
    {
      "cell_type": "code",
      "execution_count": null,
      "id": "a3f60f70",
      "metadata": {
        "id": "a3f60f70",
        "outputId": "b728c9ab-e72b-499a-d2fa-f922c8ca66fd"
      },
      "outputs": [
        {
          "name": "stdout",
          "output_type": "stream",
          "text": [
            "x_train shape: (60000, 28, 28, 1)\n",
            "60000 train samples\n",
            "10000 test samples\n"
          ]
        }
      ],
      "source": [
        "print('x_train shape:', x_train.shape)\n",
        "print(x_train.shape[0], 'train samples')\n",
        "print(x_test.shape[0], 'test samples')\n"
      ]
    },
    {
      "cell_type": "markdown",
      "id": "16769371",
      "metadata": {
        "id": "16769371"
      },
      "source": [
        "CNN Model: 1. Set Hyperparameters"
      ]
    },
    {
      "cell_type": "code",
      "execution_count": null,
      "id": "daf4c61a",
      "metadata": {
        "id": "daf4c61a"
      },
      "outputs": [],
      "source": [
        "batch_size = 128\n",
        "num_classes = 10\n",
        "epochs = 30\n"
      ]
    },
    {
      "cell_type": "markdown",
      "id": "65f5befe",
      "metadata": {
        "id": "65f5befe"
      },
      "source": [
        "Build the Model"
      ]
    },
    {
      "cell_type": "code",
      "execution_count": null,
      "id": "3412cf43",
      "metadata": {
        "id": "3412cf43"
      },
      "outputs": [],
      "source": [
        "model = Sequential()\n",
        "model.add(Conv2D(32, kernel_size=(5, 5), activation='relu', input_shape=input_shape))\n",
        "model.add(MaxPooling2D(pool_size=(2, 2)))\n",
        "model.add(Conv2D(64, (3, 3), activation='relu'))\n",
        "model.add(MaxPooling2D(pool_size=(2, 2)))\n",
        "model.add(Flatten())\n",
        "model.add(Dense(128, activation='relu'))\n",
        "model.add(Dropout(0.3))\n",
        "model.add(Dense(64, activation='relu'))\n",
        "model.add(Dropout(0.5))\n",
        "model.add(Dense(num_classes, activation='softmax'))\n"
      ]
    },
    {
      "cell_type": "markdown",
      "id": "1e7dd244",
      "metadata": {
        "id": "1e7dd244"
      },
      "source": [
        "Compile the Model"
      ]
    },
    {
      "cell_type": "code",
      "execution_count": null,
      "id": "7ccf8b81",
      "metadata": {
        "id": "7ccf8b81"
      },
      "outputs": [],
      "source": [
        "model.compile(loss=keras.losses.categorical_crossentropy,\n",
        "              optimizer=keras.optimizers.dadelta(),\n",
        "              metrics=['accuracy'])\n"
      ]
    },
    {
      "cell_type": "markdown",
      "id": "d87d9a69",
      "metadata": {
        "id": "d87d9a69"
      },
      "source": [
        "Train the Model"
      ]
    },
    {
      "cell_type": "code",
      "execution_count": null,
      "id": "720e94fd",
      "metadata": {
        "id": "720e94fd",
        "outputId": "8d1fec4b-1ccb-4c58-cab2-f1341b1aff62"
      },
      "outputs": [
        {
          "name": "stdout",
          "output_type": "stream",
          "text": [
            "Epoch 1/30\n",
            "469/469 [==============================] - 40s 79ms/step - loss: 2.3043 - accuracy: 0.1192 - val_loss: 2.2896 - val_accuracy: 0.1783\n",
            "Epoch 2/30\n",
            "469/469 [==============================] - 35s 74ms/step - loss: 2.2876 - accuracy: 0.1410 - val_loss: 2.2719 - val_accuracy: 0.2161\n",
            "Epoch 3/30\n",
            "469/469 [==============================] - 35s 75ms/step - loss: 2.2718 - accuracy: 0.1622 - val_loss: 2.2545 - val_accuracy: 0.2390\n",
            "Epoch 4/30\n",
            "469/469 [==============================] - 35s 75ms/step - loss: 2.2558 - accuracy: 0.1841 - val_loss: 2.2364 - val_accuracy: 0.2546\n",
            "Epoch 5/30\n",
            "469/469 [==============================] - 35s 75ms/step - loss: 2.2410 - accuracy: 0.1987 - val_loss: 2.2170 - val_accuracy: 0.2759\n",
            "Epoch 6/30\n",
            "469/469 [==============================] - 36s 76ms/step - loss: 2.2252 - accuracy: 0.2148 - val_loss: 2.1962 - val_accuracy: 0.3073\n",
            "Epoch 7/30\n",
            "469/469 [==============================] - 35s 74ms/step - loss: 2.2069 - accuracy: 0.2337 - val_loss: 2.1733 - val_accuracy: 0.3427\n",
            "Epoch 8/30\n",
            "469/469 [==============================] - 34s 73ms/step - loss: 2.1872 - accuracy: 0.2482 - val_loss: 2.1480 - val_accuracy: 0.3782\n",
            "Epoch 9/30\n",
            "469/469 [==============================] - 36s 76ms/step - loss: 2.1658 - accuracy: 0.2645 - val_loss: 2.1199 - val_accuracy: 0.4050\n",
            "Epoch 10/30\n",
            "469/469 [==============================] - 35s 74ms/step - loss: 2.1419 - accuracy: 0.2799 - val_loss: 2.0886 - val_accuracy: 0.4225\n",
            "Epoch 11/30\n",
            "469/469 [==============================] - 35s 76ms/step - loss: 2.1177 - accuracy: 0.2939 - val_loss: 2.0544 - val_accuracy: 0.4421\n",
            "Epoch 12/30\n",
            "469/469 [==============================] - 34s 73ms/step - loss: 2.0918 - accuracy: 0.3090 - val_loss: 2.0177 - val_accuracy: 0.4608\n",
            "Epoch 13/30\n",
            "469/469 [==============================] - 35s 74ms/step - loss: 2.0615 - accuracy: 0.3213 - val_loss: 1.9778 - val_accuracy: 0.4816\n",
            "Epoch 14/30\n",
            "469/469 [==============================] - 35s 75ms/step - loss: 2.0294 - accuracy: 0.3374 - val_loss: 1.9355 - val_accuracy: 0.5113\n",
            "Epoch 15/30\n",
            "469/469 [==============================] - 34s 72ms/step - loss: 1.9980 - accuracy: 0.3502 - val_loss: 1.8908 - val_accuracy: 0.5396\n",
            "Epoch 16/30\n",
            "469/469 [==============================] - 35s 75ms/step - loss: 1.9655 - accuracy: 0.3624 - val_loss: 1.8446 - val_accuracy: 0.5662\n",
            "Epoch 17/30\n",
            "469/469 [==============================] - 35s 75ms/step - loss: 1.9317 - accuracy: 0.3724 - val_loss: 1.7971 - val_accuracy: 0.5913\n",
            "Epoch 18/30\n",
            "469/469 [==============================] - 35s 74ms/step - loss: 1.8985 - accuracy: 0.3813 - val_loss: 1.7486 - val_accuracy: 0.6135\n",
            "Epoch 19/30\n",
            "469/469 [==============================] - 35s 74ms/step - loss: 1.8596 - accuracy: 0.3986 - val_loss: 1.6988 - val_accuracy: 0.6265\n",
            "Epoch 20/30\n",
            "469/469 [==============================] - 35s 74ms/step - loss: 1.8286 - accuracy: 0.4074 - val_loss: 1.6499 - val_accuracy: 0.6425\n",
            "Epoch 21/30\n",
            "469/469 [==============================] - 35s 75ms/step - loss: 1.7916 - accuracy: 0.4207 - val_loss: 1.6003 - val_accuracy: 0.6583\n",
            "Epoch 22/30\n",
            "469/469 [==============================] - 35s 76ms/step - loss: 1.7555 - accuracy: 0.4329 - val_loss: 1.5510 - val_accuracy: 0.6726\n",
            "Epoch 23/30\n",
            "469/469 [==============================] - 35s 75ms/step - loss: 1.7218 - accuracy: 0.4422 - val_loss: 1.5027 - val_accuracy: 0.6844\n",
            "Epoch 24/30\n",
            "469/469 [==============================] - 35s 75ms/step - loss: 1.6870 - accuracy: 0.4555 - val_loss: 1.4552 - val_accuracy: 0.6983\n",
            "Epoch 25/30\n",
            "469/469 [==============================] - 35s 75ms/step - loss: 1.6551 - accuracy: 0.4656 - val_loss: 1.4080 - val_accuracy: 0.7090\n",
            "Epoch 26/30\n",
            "469/469 [==============================] - 35s 75ms/step - loss: 1.6175 - accuracy: 0.4776 - val_loss: 1.3622 - val_accuracy: 0.7187\n",
            "Epoch 27/30\n",
            "469/469 [==============================] - 35s 74ms/step - loss: 1.5849 - accuracy: 0.4879 - val_loss: 1.3175 - val_accuracy: 0.7281\n",
            "Epoch 28/30\n",
            "469/469 [==============================] - 35s 75ms/step - loss: 1.5534 - accuracy: 0.4977 - val_loss: 1.2742 - val_accuracy: 0.7359\n",
            "Epoch 29/30\n",
            "469/469 [==============================] - 35s 75ms/step - loss: 1.5207 - accuracy: 0.5074 - val_loss: 1.2310 - val_accuracy: 0.7451\n",
            "Epoch 30/30\n",
            "469/469 [==============================] - 35s 75ms/step - loss: 1.4876 - accuracy: 0.5176 - val_loss: 1.1897 - val_accuracy: 0.7529\n",
            "The model has successfully trained\n"
          ]
        }
      ],
      "source": [
        "hist = model.fit(x_train, y_train, batch_size=batch_size, epochs=epochs, verbose=1, validation_data=(x_test, y_test))\n",
        "print(\"The model has successfully trained\")\n"
      ]
    },
    {
      "cell_type": "markdown",
      "id": "da0995e0",
      "metadata": {
        "id": "da0995e0"
      },
      "source": [
        "Evaluate the Model"
      ]
    },
    {
      "cell_type": "code",
      "execution_count": null,
      "id": "81a5bc3b",
      "metadata": {
        "id": "81a5bc3b",
        "outputId": "4672243f-1440-41ae-b8c9-fad63f939096"
      },
      "outputs": [
        {
          "name": "stdout",
          "output_type": "stream",
          "text": [
            "Test loss: 1.1896922588348389\n",
            "Test accuracy: 0.7529000043869019\n"
          ]
        }
      ],
      "source": [
        "score = model.evaluate(x_test, y_test, verbose=0)\n",
        "print('Test loss:', score[0])\n",
        "print('Test accuracy:', score[1])"
      ]
    },
    {
      "cell_type": "code",
      "execution_count": null,
      "id": "ec7a7f59",
      "metadata": {
        "id": "ec7a7f59",
        "outputId": "79c5b579-2ec2-4d5e-8a12-564beccf48d4"
      },
      "outputs": [
        {
          "name": "stdout",
          "output_type": "stream",
          "text": [
            "313/313 [==============================] - 4s 13ms/step - loss: 1.1897 - accuracy: 0.7529\n",
            "Test loss: 1.1896922588348389\n",
            "Test accuracy: 75.29000043869019\n"
          ]
        }
      ],
      "source": [
        "score = model.evaluate(x_test, y_test, verbose=1, sample_weight=None )\n",
        "print('Test loss:', score[0])\n",
        "print('Test accuracy:', score[1]*100)"
      ]
    },
    {
      "cell_type": "markdown",
      "id": "7ca47c75",
      "metadata": {
        "id": "7ca47c75"
      },
      "source": [
        "Prediction"
      ]
    },
    {
      "cell_type": "code",
      "execution_count": null,
      "id": "7ac05967",
      "metadata": {
        "id": "7ac05967",
        "outputId": "03b4f6f0-c5b1-482d-82f4-a73f26f86374"
      },
      "outputs": [
        {
          "name": "stdout",
          "output_type": "stream",
          "text": [
            "Enter the index of the image to predict (0-9999): 4\n"
          ]
        }
      ],
      "source": [
        "# user to enter the index of the image to predict\n",
        "image_index = int(input(\"Enter the index of the image to predict (0-9999): \"))"
      ]
    },
    {
      "cell_type": "code",
      "execution_count": null,
      "id": "1c95b089",
      "metadata": {
        "id": "1c95b089"
      },
      "outputs": [],
      "source": [
        "# Get the image from the test set\n",
        "img = x_test[image_index]"
      ]
    },
    {
      "cell_type": "code",
      "execution_count": null,
      "id": "33ef963e",
      "metadata": {
        "id": "33ef963e"
      },
      "outputs": [],
      "source": [
        "# Reshape the image to match the input_shape of the model\n",
        "img_reshaped = img.reshape(1, 28, 28, 1)"
      ]
    },
    {
      "cell_type": "code",
      "execution_count": null,
      "id": "f2c35ddc",
      "metadata": {
        "id": "f2c35ddc",
        "outputId": "8572ee77-a2f4-4881-c906-990c0eb8af84"
      },
      "outputs": [
        {
          "name": "stdout",
          "output_type": "stream",
          "text": [
            "1/1 [==============================] - 0s 65ms/step\n"
          ]
        }
      ],
      "source": [
        "# Predict the class\n",
        "prediction = model.predict(img_reshaped)"
      ]
    },
    {
      "cell_type": "code",
      "execution_count": null,
      "id": "7f271487",
      "metadata": {
        "id": "7f271487"
      },
      "outputs": [],
      "source": [
        "# Get the index of the highest probability\n",
        "predicted_class = np.argmax(prediction)"
      ]
    },
    {
      "cell_type": "markdown",
      "id": "19dc6e98",
      "metadata": {
        "id": "19dc6e98"
      },
      "source": [
        "Plot the digit"
      ]
    },
    {
      "cell_type": "code",
      "execution_count": null,
      "id": "32374876",
      "metadata": {
        "id": "32374876",
        "outputId": "ab958a49-f723-47c1-ba40-a7b0a2c6fce4"
      },
      "outputs": [
        {
          "name": "stdout",
          "output_type": "stream",
          "text": [
            "Looking in indexes: https://pypi.org/simple, https://pypi.ngc.nvidia.com\n",
            "Collecting matplotlib\n",
            "  Downloading matplotlib-3.5.3-cp37-cp37m-win_amd64.whl (7.2 MB)\n",
            "     ---------------------------------------- 7.2/7.2 MB 1.6 MB/s eta 0:00:00\n",
            "Collecting cycler>=0.10\n",
            "  Downloading cycler-0.11.0-py3-none-any.whl (6.4 kB)\n",
            "Collecting fonttools>=4.22.0\n",
            "  Downloading fonttools-4.38.0-py3-none-any.whl (965 kB)\n",
            "     -------------------------------------- 965.4/965.4 kB 5.6 MB/s eta 0:00:00\n",
            "Requirement already satisfied: python-dateutil>=2.7 in c:\\users\\gshvr\\anaconda3\\envs\\ivalabexp_1\\lib\\site-packages (from matplotlib) (2.9.0.post0)\n",
            "Collecting kiwisolver>=1.0.1\n",
            "  Downloading kiwisolver-1.4.5-cp37-cp37m-win_amd64.whl (55 kB)\n",
            "     ---------------------------------------- 55.8/55.8 kB 2.8 MB/s eta 0:00:00\n",
            "Collecting pyparsing>=2.2.1\n",
            "  Downloading pyparsing-3.1.2-py3-none-any.whl (103 kB)\n",
            "     ---------------------------------------- 103.2/103.2 kB ? eta 0:00:00\n",
            "Requirement already satisfied: numpy>=1.17 in c:\\users\\gshvr\\anaconda3\\envs\\ivalabexp_1\\lib\\site-packages (from matplotlib) (1.21.6)\n",
            "Collecting pillow>=6.2.0\n",
            "  Downloading Pillow-9.5.0-cp37-cp37m-win_amd64.whl (2.5 MB)\n",
            "     ---------------------------------------- 2.5/2.5 MB 1.3 MB/s eta 0:00:00\n",
            "Requirement already satisfied: packaging>=20.0 in c:\\users\\gshvr\\anaconda3\\envs\\ivalabexp_1\\lib\\site-packages (from matplotlib) (24.0)\n",
            "Requirement already satisfied: typing-extensions in c:\\users\\gshvr\\anaconda3\\envs\\ivalabexp_1\\lib\\site-packages (from kiwisolver>=1.0.1->matplotlib) (4.7.1)\n",
            "Requirement already satisfied: six>=1.5 in c:\\users\\gshvr\\anaconda3\\envs\\ivalabexp_1\\lib\\site-packages (from python-dateutil>=2.7->matplotlib) (1.16.0)\n",
            "Installing collected packages: pyparsing, pillow, kiwisolver, fonttools, cycler, matplotlib\n",
            "Successfully installed cycler-0.11.0 fonttools-4.38.0 kiwisolver-1.4.5 matplotlib-3.5.3 pillow-9.5.0 pyparsing-3.1.2\n"
          ]
        }
      ],
      "source": [
        "!pip install matplotlib\n"
      ]
    },
    {
      "cell_type": "code",
      "execution_count": null,
      "id": "a3e6d504",
      "metadata": {
        "id": "a3e6d504",
        "outputId": "2e7c0419-06d6-407f-a80c-3ff3bc640ff0"
      },
      "outputs": [
        {
          "data": {
            "image/png": "[encoded data removed]",
            "text/plain": [
              "<Figure size 640x480 with 1 Axes>"
            ]
          },
          "metadata": {},
          "output_type": "display_data"
        }
      ],
      "source": [
        "import matplotlib.pyplot as plt\n",
        "# Display the image and predicted class\n",
        "plt.imshow(img.reshape(28, 28), cmap='gray')\n",
        "plt.title(f'Predicted class: {predicted_class}')\n",
        "plt.axis('off')\n",
        "plt.show()"
      ]
    },
    {
      "cell_type": "code",
      "execution_count": null,
      "id": "0dd2d729",
      "metadata": {
        "id": "0dd2d729"
      },
      "outputs": [],
      "source": []
    }
  ],
  "metadata": {
    "kernelspec": {
      "display_name": "Python 3 (ipykernel)",
      "language": "python",
      "name": "python3"
    },
    "language_info": {
      "codemirror_mode": {
        "name": "ipython",
        "version": 3
      },
      "file_extension": ".py",
      "mimetype": "text/x-python",
      "name": "python",
      "nbconvert_exporter": "python",
      "pygments_lexer": "ipython3",
      "version": "3.7.16"
    },
    "colab": {
      "provenance": []
    }
  },
  "nbformat": 4,
  "nbformat_minor": 5
}