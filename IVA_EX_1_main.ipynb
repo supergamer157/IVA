{
  "nbformat": 4,
  "nbformat_minor": 0,
  "metadata": {
    "colab": {
      "provenance": []
    },
    "kernelspec": {
      "name": "python3",
      "display_name": "Python 3"
    },
    "language_info": {
      "name": "python"
    }
  },
  "cells": [
    {
      "cell_type": "code",
      "execution_count": null,
      "metadata": {
        "id": "Zid5jEPxtydj"
      },
      "outputs": [],
      "source": [
        "import tensorflow as tf\n",
        "from tensorflow.examples.tutorials.mnist import input_data\n",
        "\n",
        "mnist_data = input_data.read_data_sets(\"MNIST_data/\", one_hot=True)\n",
        "\n",
        "x_input = tf.placeholder(tf.float32, shape=[None, 784])\n",
        "y_input = tf.placeholder(tf.float32, shape=[None, 10])\n",
        "\n",
        "W = tf.Variable(tf.zeros([784, 10]))\n",
        "b = tf.Variable(tf.zeros([10]))\n",
        "logits = tf.matmul(x_input, W) + b\n",
        "predictions = tf.nn.softmax(logits)\n",
        "\n",
        "loss = tf.reduce_mean(tf.nn.softmax_cross_entropy_with_logits_v2(labels=y_input, logits=logits))\n",
        "optimizer = tf.train.GradientDescentOptimizer(learning_rate=0.5).minimize(loss)\n",
        "\n",
        "correct_predictions = tf.equal(tf.argmax(predictions, 1), tf.argmax(y_input, 1))\n",
        "accuracy_operation = tf.reduce_mean(tf.cast(correct_predictions, tf.float32))\n",
        "\n",
        "init = tf.global_variables_initializer()\n",
        "\n",
        "with tf.Session() as session:\n",
        "    session.run(init)\n",
        "\n",
        "    for epoch in range(10):\n",
        "        for _ in range(mnist_data.train.num_examples // 100):\n",
        "            batch_x, batch_y = mnist_data.train.next_batch(100)\n",
        "            session.run(optimizer, feed_dict={x_input: batch_x, y_input: batch_y})\n",
        "\n",
        "    test_images, test_labels = mnist_data.test.images, mnist_data.test.labels\n",
        "    accuracy_value = session.run(accuracy_operation, feed_dict={x_input: test_images, y_input: test_labels})\n",
        "    print('Accuracy : ', accuracy_value)\n"
      ]
    }
  ]
}